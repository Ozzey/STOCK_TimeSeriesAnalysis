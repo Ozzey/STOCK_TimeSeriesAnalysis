{
  "nbformat": 4,
  "nbformat_minor": 0,
  "metadata": {
    "colab": {
      "name": "stocks_predictor.ipynb",
      "provenance": [],
      "collapsed_sections": []
    },
    "kernelspec": {
      "display_name": "Python 3",
      "name": "python3"
    },
    "language_info": {
      "name": "python"
    }
  },
  "cells": [
    {
      "cell_type": "code",
      "metadata": {
        "id": "_ZtpC6wXNED7"
      },
      "source": [
        "pip install fbprophet yfinance plotly"
      ],
      "execution_count": null,
      "outputs": []
    },
    {
      "cell_type": "code",
      "metadata": {
        "id": "N2lOtBZ8N1jc"
      },
      "source": [
        "pip install streamlit -q"
      ],
      "execution_count": 4,
      "outputs": []
    },
    {
      "cell_type": "code",
      "metadata": {
        "id": "ue6h70yLOFXY"
      },
      "source": [
        "%%writefile main.py\n",
        "\n",
        "import streamlit as st\n",
        "import yfinance as yf\n",
        "\n",
        "from datetime import date\n",
        "from fbprophet import Prophet\n",
        "from fbprophet.plot import plot_plotly\n",
        "from plotly import graph_objs as go\n",
        "\n",
        "START = \"2015-01-01\"\n",
        "TODAY = date.today().strftime(\"%Y-%m-%d\")\n",
        "\n",
        "st.title(\"STOCKS PREDICTION\")\n",
        "\n",
        "stocks = ('TSLA', 'AMZN', 'AAPL','YNDX','BTC-USD')\n",
        "selected_stock = st.selectbox('Select Your Preferred Stocks for Prediction', stocks)\n",
        "\n",
        "n_years = 1\n",
        "period = n_years*365\n",
        "\n",
        "@st.cache\n",
        "def load_data(ticker):\n",
        "  data = yf.download(ticker, START, TODAY)\n",
        "  data.reset_index(inplace = True)\n",
        "  return data\n",
        "\n",
        "data_load_state = st.text(\"Loading Data...\")\n",
        "data = load_data(selected_stock)\n",
        "data_load_state.text(\"Loading Data...\")\n",
        "\n",
        "#Prediction of prices using Prophet\n",
        "\n",
        "df_train = data[['Date','Close']]\n",
        "df_train = df_train.rename(columns = {\"Date\":\"ds\", \"Close\":'y'})\n",
        "\n",
        "\n",
        "m = Prophet()\n",
        "m.fit(df_train)\n",
        "future = m.make_future_dataframe(periods = period)\n",
        "\n",
        "forecast = m.predict(future)\n",
        "\n",
        "st.write(f'Forecast plot for {n_years} years')\n",
        "fig1 = plot_plotly(m,forecast)\n",
        "st.plotly_chart(fig1)\n",
        "\n",
        "st.write(\"COMPONENTS\")\n",
        "fig2 = m.plot_components(forecast)\n",
        "st.write(fig2)"
      ],
      "execution_count": null,
      "outputs": []
    },
    {
      "cell_type": "code",
      "metadata": {
        "id": "ovZ89Kt4bXkO"
      },
      "source": [
        "!wget https://bin.equinox.io/c/4VmDzA7iaHb/ngrok-stable-linux-amd64.zip\n",
        "!unzip -qq ngrok-stable-linux-amd64.zip\n"
      ],
      "execution_count": null,
      "outputs": []
    },
    {
      "cell_type": "code",
      "metadata": {
        "id": "weIMXPndb1T0"
      },
      "source": [
        "get_ipython().system_raw('./ngrok http 8501 &')\n",
        "! curl -s http://localhost:4040/api/tunnels | python3 -c \\\n",
        "    'import sys, json; print(\"Execute the next cell and the go to the following URL: \" +json.load(sys.stdin)[\"tunnels\"][0][\"public_url\"])'"
      ],
      "execution_count": null,
      "outputs": []
    },
    {
      "cell_type": "code",
      "metadata": {
        "id": "6utin0ulQoU1"
      },
      "source": [
        "!streamlit run main.py"
      ],
      "execution_count": null,
      "outputs": []
    }
  ]
}